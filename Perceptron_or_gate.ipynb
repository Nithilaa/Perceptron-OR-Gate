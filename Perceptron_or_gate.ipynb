{
  "nbformat": 4,
  "nbformat_minor": 0,
  "metadata": {
    "colab": {
      "name": "Perceptron_or_gate.ipynb",
      "provenance": [],
      "collapsed_sections": [],
      "authorship_tag": "ABX9TyNrwCDBkqTZPp3iGi95Bkhq",
      "include_colab_link": true
    },
    "kernelspec": {
      "name": "python3",
      "display_name": "Python 3"
    }
  },
  "cells": [
    {
      "cell_type": "markdown",
      "metadata": {
        "id": "view-in-github",
        "colab_type": "text"
      },
      "source": [
        "<a href=\"https://colab.research.google.com/github/Nithilaa/Perceptron-OR-Gate/blob/master/Perceptron_or_gate.ipynb\" target=\"_parent\"><img src=\"https://colab.research.google.com/assets/colab-badge.svg\" alt=\"Open In Colab\"/></a>"
      ]
    },
    {
      "cell_type": "code",
      "metadata": {
        "id": "sF4c5hHBWt1n",
        "colab_type": "code",
        "colab": {
          "base_uri": "https://localhost:8080/",
          "height": 185
        },
        "outputId": "3d31a135-26b9-44f6-d955-6603e6689104"
      },
      "source": [
        "import numpy as np\n",
        "\n",
        "inp = ([[1,0,0],[1,0,1],[1,1,0],[1,1,1]])\n",
        "out = ([0,1,1,1])\n",
        "\n",
        "weights = 2*np.random.random((3,1))-1\n",
        "\n",
        "print(weights)\n",
        "conv=1\n",
        "flag=0\n",
        "count=0\n",
        "while (flag!=1):\n",
        "    count=0\n",
        "    for i in range(0,4):\n",
        "        s = weights[0] + weights[1]*inp[i][1] + weights[2]*inp[i][2]\n",
        "        if s>=0:\n",
        "            yhat = 1\n",
        "        else:\n",
        "            yhat = 0\n",
        "\n",
        "        if out[i] == yhat:\n",
        "            count+=1\n",
        "        else:\n",
        "            if (out[i]==0) & (yhat==1) :\n",
        "                weights[0] -= inp[i][0] \n",
        "                weights[1] -= inp[i][1]\n",
        "                weights[2] -= inp[i][2]\n",
        "            else:\n",
        "                weights[0] += inp[i][0] \n",
        "                weights[1] += inp[i][1]\n",
        "                weights[2] += inp[i][2]\n",
        "            count+=1\n",
        "    if count == 4:\n",
        "        for j in range(0,4):\n",
        "            conv =  weights[0] + weights[1]*inp[j][1] + weights[2]*inp[j][2]\n",
        "            if conv>=0:\n",
        "                new_yhat=1\n",
        "            else:\n",
        "                new_yhat=0\n",
        "            if new_yhat == out[j]:\n",
        "                print(new_yhat)\n",
        "                flag=1\n",
        "            else:\n",
        "                flag=0\n",
        "                break\n",
        "                \n",
        "print(weights)"
      ],
      "execution_count": null,
      "outputs": [
        {
          "output_type": "stream",
          "text": [
            "[[ 0.49624052]\n",
            " [ 0.16624596]\n",
            " [-0.35749962]]\n",
            "0\n",
            "1\n",
            "1\n",
            "1\n",
            "[[-0.50375948]\n",
            " [ 1.16624596]\n",
            " [ 0.64250038]]\n"
          ],
          "name": "stdout"
        }
      ]
    }
  ]
}